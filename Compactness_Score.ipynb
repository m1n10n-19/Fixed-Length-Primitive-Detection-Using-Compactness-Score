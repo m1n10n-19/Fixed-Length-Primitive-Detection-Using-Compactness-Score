{
 "cells": [
  {
   "cell_type": "code",
   "execution_count": 1,
   "metadata": {},
   "outputs": [],
   "source": [
    "# Author: Mishma Mariyam Raju\n",
    "# Created on July 12 10:15 am"
   ]
  },
  {
   "cell_type": "code",
   "execution_count": 2,
   "metadata": {},
   "outputs": [],
   "source": [
    "import struct\n",
    "import numpy as np\n",
    "import math\n",
    "from scipy.optimize import fsolve\n",
    "import random\n",
    "import os"
   ]
  },
  {
   "cell_type": "code",
   "execution_count": 3,
   "metadata": {},
   "outputs": [],
   "source": [
    "def solve_for_G(mu):\n",
    "    func = lambda G : G - mu * np.exp(G - mu)\n",
    "    \n",
    "    '''\n",
    "    G = np.linspace(0.000, 1.000, 1000)\n",
    "    plt.plot(G, func(G))\n",
    "    plt.xlabel(\"G\")\n",
    "    plt.ylabel(\"expression value\")\n",
    "    plt.grid()\n",
    "    plt.show()\n",
    "    '''\n",
    "\n",
    "    G_initial_guess = 0.5\n",
    "    G_soln = fsolve(func, G_initial_guess)\n",
    "    #print(\"The solution is G = %f\" % G_soln)\n",
    "    #print(\"at which the value of the expression is %f\" % func(G_soln))\n",
    "    return G_soln[0]"
   ]
  },
  {
   "cell_type": "code",
   "execution_count": 4,
   "metadata": {},
   "outputs": [],
   "source": [
    "def ln_stirling_2nd(n, k):\n",
    "    mu = n/k\n",
    "    G = solve_for_G(mu)\n",
    "    #G = 0.5\n",
    "    return 0.5 * (math.log(mu - 1) - math.log(mu * (1 - G))) + \\\n",
    "        (n - k) * (math.log(mu - 1) - math.log(mu - G)) + \\\n",
    "            n * math.log(k) - k * math.log(n) + k * (1 - G) + \\\n",
    "                ln_n_fact(n) - ln_n_fact(n - k) - ln_n_fact(k)"
   ]
  },
  {
   "cell_type": "code",
   "execution_count": 5,
   "metadata": {},
   "outputs": [],
   "source": [
    "def ln_n_fact(n):\n",
    "    if(n > 8):\n",
    "        return 0.5 * math.log(2*math.pi) - n + (n + 0.5) * math.log(n)\n",
    "    else: \n",
    "        return math.log(math.factorial(n))"
   ]
  },
  {
   "cell_type": "code",
   "execution_count": 6,
   "metadata": {},
   "outputs": [],
   "source": [
    "def P(x, n, l):\n",
    "    if(x == int(l/n) or x == 1):\n",
    "        return math.e ** (ln_n_fact(2 ** n) - ln_n_fact(2**n - x) + ((l%n) - l) * math.log(2))\n",
    "    else:\n",
    "        Term_1 = ln_n_fact(2 ** n) - ln_n_fact(2**n - x) \n",
    "        #Term_2 = ln_n_fact(int(l/n)) - ln_n_fact(int(l/n) - x) + x * math.log(int(l/n))\n",
    "        Term_2 = ln_stirling_2nd(int(l/n), x)\n",
    "        #Term_2 = math.log(stirling(int(l/n), x))\n",
    "        Term_3 = ((l%n) - l) * math.log(2)\n",
    "        #print(Term_1, Term_2, Term_3)\n",
    "        #print(math.e ** (Term_1 + Term_2 + Term_3))\n",
    "        return math.e ** (Term_1 + Term_2 + Term_3)"
   ]
  },
  {
   "cell_type": "code",
   "execution_count": 7,
   "metadata": {},
   "outputs": [],
   "source": [
    "def E(n, l):\n",
    "    E = 0.0\n",
    "    sump = 0.0\n",
    "    p = 0.0\n",
    "    for x in range(1, min(2 ** n + 1, int(l/n)+1)):\n",
    "        p = P(x, n, l)\n",
    "        sump += p\n",
    "        E += p * x\n",
    "    '''\n",
    "    p = [P(x, n, l) for x in range(1, min(2 ** n + 1, int(l/n)+1))]\n",
    "    #print(p)\n",
    "    E_of_n_l = [p[x-1] * x for x in range(1, min(2 ** n + 1, int(l/n)+1))]\n",
    "    print(\"E(\", n, \"\\b,\", l, \"\\b)\", int(sum(E_of_n_l)))\n",
    "    '''\n",
    "    #print(sump)\n",
    "    print(\"E(\", n, \"\\b,\", l, \"\\b) = \", E)\n",
    "    return E"
   ]
  },
  {
   "cell_type": "code",
   "execution_count": 8,
   "metadata": {},
   "outputs": [],
   "source": [
    "def find_length_of_bit_file(bit_file_name):\n",
    "    size_in_bytes = os.path.getsize(bit_file_name)\n",
    "    size_of_one_character = 1.0\n",
    "    return int(size_in_bytes/size_of_one_character)"
   ]
  },
  {
   "cell_type": "code",
   "execution_count": 9,
   "metadata": {},
   "outputs": [],
   "source": [
    "def find_dp(bit_file_name, n, offset = 0):\n",
    "    corpus = open(bit_file_name)\n",
    "    file = open(\"distinct_patterns.txt\", \"w\")\n",
    "    for i in range(offset, n + offset):\n",
    "        file.write(corpus.read(1))\n",
    "    file.write(\"\\n\")\n",
    "    file.close()\n",
    "    \n",
    "    length_of_bit_file = find_length_of_bit_file(bit_file_name)\n",
    "    no_of_distinct_patterns = 1\n",
    "    \n",
    "    for i in range(offset + n, length_of_bit_file - n, n):\n",
    "        flag = 1\n",
    "        pattern = []\n",
    "        for j in range(0, n):\n",
    "            pattern.append(int(corpus.read(1)))\n",
    "        #print(pattern)\n",
    "        with open('distinct_patterns.txt') as f:\n",
    "            for index, line in enumerate(f):\n",
    "                #print(\"Line {}: {}\".format(index, line.strip()))\n",
    "                j = []\n",
    "                for ch in line.strip():\n",
    "                    j.append(int(ch))\n",
    "                    pass\n",
    "                if(np.array_equal(pattern, j)):\n",
    "                    flag = 0\n",
    "        file = open(\"distinct_patterns.txt\", \"a\")  \n",
    "        if(flag == 1):\n",
    "            for num in pattern:\n",
    "                file.write(str(num))\n",
    "            file.write(\"\\n\")\n",
    "            no_of_distinct_patterns += 1\n",
    "        file.close()\n",
    "    print(no_of_distinct_patterns, end = \", \")\n",
    "    return no_of_distinct_patterns"
   ]
  },
  {
   "cell_type": "code",
   "execution_count": 10,
   "metadata": {},
   "outputs": [],
   "source": [
    "def CS(bit_file_name, cs_file, offset = 0):\n",
    "    file = open(cs_file, 'w')\n",
    "    for n in range(1, 45):\n",
    "        file.write(str(1 - find_dp(bit_file_name, n, offset)/E(n, find_length_of_bit_file(bit_file_name))) + \",\")  \n",
    "    file.close()\n",
    "    return"
   ]
  },
  {
   "cell_type": "code",
   "execution_count": 11,
   "metadata": {},
   "outputs": [
    {
     "name": "stdout",
     "output_type": "stream",
     "text": [
      "2, E( 1, 8953) =  1.999999999998181\n",
      "4, E( 2, 8953) =  4.000000000032742\n",
      "8, E( 3, 8953) =  7.999999999949068\n",
      "16, E( 4, 8953) =  15.99999999992724\n",
      "32, E( 5, 8953) =  32.00000000014552\n",
      "64, E( 6, 8953) =  64.00000000031507\n",
      "128, E( 7, 8953) =  127.99478931720962\n",
      "209, E( 8, 8953) =  252.81892314367454\n",
      "285, E( 9, 8953) =  439.2348675486044\n",
      "373, E( 10, 8953) =  597.1824740944869\n",
      "406, E( 11, 8953) =  671.5928626520324\n",
      "416, E( 12, 8953) =  683.003799588665\n",
      "434, E( 13, 8953) =  661.9804284483304\n",
      "224, E( 14, 8953) =  630.3676283392947\n",
      "414, E( 15, 8953) =  591.0915695537193\n",
      "410, E( 16, 8953) =  556.6312741425173\n",
      "387, E( 17, 8953) =  524.948315155376\n",
      "365, E( 18, 8953) =  496.5302692290477\n",
      "357, E( 19, 8953) =  470.78902315211036\n",
      "348, E( 20, 8953) =  446.90498587661085\n",
      "263, E( 21, 8953) =  425.9568550796303\n",
      "312, E( 22, 8953) =  405.9804045638181\n",
      "307, E( 23, 8953) =  388.99101306876736\n",
      "293, E( 24, 8953) =  372.9958572421843\n",
      "281, E( 25, 8953) =  357.99813071451007\n",
      "271, E( 26, 8953) =  343.9990972595297\n",
      "261, E( 27, 8953) =  330.99960236251303\n",
      "233, E( 28, 8953) =  318.99949715556755\n",
      "247, E( 29, 8953) =  308.00055188782505\n",
      "237, E( 30, 8953) =  298.0008314576945\n",
      "229, E( 31, 8953) =  288.0016315856184\n",
      "226, E( 32, 8953) =  278.99448295430966\n",
      "222, E( 33, 8953) =  270.9958158683717\n",
      "212, E( 34, 8953) =  262.99572454218725\n",
      "190, E( 35, 8953) =  255.0095596741197\n",
      "199, E( 36, 8953) =  247.98540678943576\n",
      "196, E( 37, 8953) =  241.0116135293836\n",
      "194, E( 38, 8953) =  235.08583750011803\n",
      "188, E( 39, 8953) =  228.68516219754048\n",
      "185, E( 40, 8953) =  223.47983787736942\n",
      "180, E( 41, 8953) =  218.45012523234348\n",
      "166, E( 42, 8953) =  215.47930694656273\n",
      "173, E( 43, 8953) =  206.26363952244188\n",
      "169, E( 44, 8953) =  202.36828263164384\n"
     ]
    }
   ],
   "source": [
    "cs_file = 'CSs/cs_bit_ASCII_128_all.txt'\n",
    "bit_file_name = 'Corpuses/bit_ASCII_128_all.txt'\n",
    "\n",
    "CS(bit_file_name, cs_file)"
   ]
  },
  {
   "cell_type": "code",
   "execution_count": null,
   "metadata": {},
   "outputs": [],
   "source": []
  }
 ],
 "metadata": {
  "kernelspec": {
   "display_name": "Python 3",
   "language": "python",
   "name": "python3"
  },
  "language_info": {
   "codemirror_mode": {
    "name": "ipython",
    "version": 3
   },
   "file_extension": ".py",
   "mimetype": "text/x-python",
   "name": "python",
   "nbconvert_exporter": "python",
   "pygments_lexer": "ipython3",
   "version": "3.8.3"
  }
 },
 "nbformat": 4,
 "nbformat_minor": 4
}
